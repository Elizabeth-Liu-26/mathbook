{
 "cells": [
  {
   "cell_type": "markdown",
   "id": "8c0d6ebb",
   "metadata": {},
   "source": [
    "### Using Derivatives to Graph Functions"
   ]
  },
  {
   "cell_type": "markdown",
   "id": "afb8991d",
   "metadata": {},
   "source": [
    "#### First, some definitions"
   ]
  },
  {
   "cell_type": "markdown",
   "id": "18180b7b",
   "metadata": {},
   "source": [
    "```{dropdown} The function is <b> positive </b>.\n",
    "For a given $x$ , $f(x) > 0$. aka the value of the function, at that point, is a positive number. \n",
    "\n",
    "Similarly, if the function is <b> negative </b>, the function is a negative number. (For a given $x$ , $f(x) < 0$.\n",
    "```"
   ]
  },
  {
   "cell_type": "code",
   "execution_count": null,
   "id": "6bbf8976",
   "metadata": {},
   "outputs": [],
   "source": []
  }
 ],
 "metadata": {
  "kernelspec": {
   "display_name": "Python 3 (ipykernel)",
   "language": "python",
   "name": "python3"
  },
  "language_info": {
   "codemirror_mode": {
    "name": "ipython",
    "version": 3
   },
   "file_extension": ".py",
   "mimetype": "text/x-python",
   "name": "python",
   "nbconvert_exporter": "python",
   "pygments_lexer": "ipython3",
   "version": "3.9.7"
  }
 },
 "nbformat": 4,
 "nbformat_minor": 5
}
