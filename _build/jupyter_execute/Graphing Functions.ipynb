{
 "cells": [
  {
   "cell_type": "markdown",
   "id": "1d2ea5a1",
   "metadata": {},
   "source": [
    "### Using Derivatives to Graph Functions"
   ]
  },
  {
   "cell_type": "markdown",
   "id": "427e7f7f",
   "metadata": {},
   "source": [
    "#### First, some definitions"
   ]
  },
  {
   "cell_type": "markdown",
   "id": "d8f9288d",
   "metadata": {},
   "source": [
    "```{dropdown} The function is <b> positive </b>.\n",
    "For a given $x$ , $f(x) > 0$. aka the value of the function, at that point, is a positive number. \n",
    "\n",
    "Similarly, if the function is <b> negative </b>, the function is a negative number. (For a given $x$ , $f(x) < 0$.\n",
    "```"
   ]
  },
  {
   "cell_type": "markdown",
   "id": "2308d68f",
   "metadata": {},
   "source": [
    "```{dropdown} The function is <b> increasing </b>.\n",
    "For a given interval, as $x$ increases (gets bigger), $f(x)$ also increases (gets bigger). \"climbing uphill\" \n",
    "\n",
    "Similarly, if the function is <b> decreasing </b>, as $x$ increases (gets bigger), $f(x)$ decreases (gets smaller). \"going downhill\"\n",
    "```"
   ]
  },
  {
   "cell_type": "markdown",
   "id": "69579627",
   "metadata": {},
   "source": [
    "```{note}\n",
    "Note that we define positive/negative for the function at a give point ($x$). Whereas we define increasing/decreasing for the function on a given interval ([$x_1,x_2$])\n",
    "```"
   ]
  },
  {
   "cell_type": "code",
   "execution_count": 1,
   "id": "553b7a5c",
   "metadata": {},
   "outputs": [],
   "source": [
    "import numpy as np\n",
    "import matplotlib.pyplot as plt"
   ]
  },
  {
   "cell_type": "code",
   "execution_count": 2,
   "id": "aada54db",
   "metadata": {},
   "outputs": [],
   "source": [
    "x = np.arange(-2,6,.01)\n",
    "y = .25*(x**3-6*x**2)+4"
   ]
  },
  {
   "cell_type": "code",
   "execution_count": 3,
   "id": "dacfad98",
   "metadata": {},
   "outputs": [
    {
     "data": {
      "image/png": "[encoded data removed]",
      "text/plain": [
       "<Figure size 432x288 with 1 Axes>"
      ]
     },
     "metadata": {
      "filenames": {
       "image/png": "/Users/ensum/mathbook/_build/jupyter_execute/Graphing Functions_7_0.png"
      },
      "needs_background": "light"
     },
     "output_type": "display_data"
    }
   ],
   "source": [
    "plt.plot(x,y)\n",
    "plt.ylabel('some numbers')\n",
    "plt.show()"
   ]
  },
  {
   "cell_type": "code",
   "execution_count": null,
   "id": "b70c6255",
   "metadata": {},
   "outputs": [],
   "source": []
  }
 ],
 "metadata": {
  "kernelspec": {
   "display_name": "Python 3 (ipykernel)",
   "language": "python",
   "name": "python3"
  },
  "language_info": {
   "codemirror_mode": {
    "name": "ipython",
    "version": 3
   },
   "file_extension": ".py",
   "mimetype": "text/x-python",
   "name": "python",
   "nbconvert_exporter": "python",
   "pygments_lexer": "ipython3",
   "version": "3.9.7"
  }
 },
 "nbformat": 4,
 "nbformat_minor": 5
}