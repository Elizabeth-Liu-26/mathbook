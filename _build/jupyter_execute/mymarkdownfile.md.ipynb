{
 "cells": [
  {
   "cell_type": "markdown",
   "id": "9cc32383",
   "metadata": {},
   "source": [
    "# Here's my sample title\n",
    "\n",
    "This is some sample text.\n",
    "\n",
    "(section-label)=\n",
    "## Here's my first section\n",
    "\n",
    "Here is a [reference to the intro](intro.md). Here is a reference to [](section-label)."
   ]
  },
  {
   "cell_type": "code",
   "execution_count": null,
   "id": "31337f1a",
   "metadata": {},
   "outputs": [],
   "source": []
  }
 ],
 "metadata": {
  "kernelspec": {
   "display_name": "Python 3 (ipykernel)",
   "language": "python",
   "name": "python3"
  },
  "language_info": {
   "codemirror_mode": {
    "name": "ipython",
    "version": 3
   },
   "file_extension": ".py",
   "mimetype": "text/x-python",
   "name": "python",
   "nbconvert_exporter": "python",
   "pygments_lexer": "ipython3",
   "version": "3.9.7"
  }
 },
 "nbformat": 4,
 "nbformat_minor": 5
}