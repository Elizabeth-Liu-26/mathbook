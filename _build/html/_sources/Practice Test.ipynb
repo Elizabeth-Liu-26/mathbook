{
 "cells": [
  {
   "cell_type": "markdown",
   "id": "ab51640e",
   "metadata": {},
   "source": [
    "# Chapter 3\n",
    "### 3.3 Derivatives of Trig Functions\n",
    "\n",
    "Find the derivative:\n",
    "\n",
    "$y=1-sec(x)tan x$\n",
    " \n",
    "$y=csc  ( + cot )$\n",
    "\n"
   ]
  },
  {
   "cell_type": "code",
   "execution_count": null,
   "id": "c271c332",
   "metadata": {},
   "outputs": [],
   "source": []
  }
 ],
 "metadata": {
  "kernelspec": {
   "display_name": "Python 3 (ipykernel)",
   "language": "python",
   "name": "python3"
  },
  "language_info": {
   "codemirror_mode": {
    "name": "ipython",
    "version": 3
   },
   "file_extension": ".py",
   "mimetype": "text/x-python",
   "name": "python",
   "nbconvert_exporter": "python",
   "pygments_lexer": "ipython3",
   "version": "3.9.7"
  }
 },
 "nbformat": 4,
 "nbformat_minor": 5
}
